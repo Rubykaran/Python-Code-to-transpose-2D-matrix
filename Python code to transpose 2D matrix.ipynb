{
 "cells": [
  {
   "cell_type": "code",
   "execution_count": 1,
   "metadata": {},
   "outputs": [
    {
     "name": "stdout",
     "output_type": "stream",
     "text": [
      "Result matrix is\n",
      "1  2  3  \n",
      "1  2  3  \n",
      "1  2  3  \n",
      "1  2  3  \n"
     ]
    }
   ],
   "source": [
    "# Python3 Program to find transpose of a matrix \n",
    "  \n",
    "M = 3\n",
    "N = 4\n",
    "  \n",
    "# This function stores transpose of A[][] in B[][] \n",
    "  \n",
    "def transpose(A, B): \n",
    "    for i in range(N): \n",
    "        for j in range(M): \n",
    "            B[i][j] = A[j][i] \n",
    "  \n",
    "# driver code \n",
    "A = [ [1, 1, 1, 1], \n",
    "    [2, 2, 2, 2], \n",
    "    [3, 3, 3, 3]] \n",
    "  \n",
    "  \n",
    "# To store result \n",
    "B = [[0 for x in range(M)] for y in range(N)]  \n",
    "  \n",
    "transpose(A, B) \n",
    "  \n",
    "print(\"Result matrix is\") \n",
    "for i in range(N): \n",
    "    for j in range(M): \n",
    "        print(B[i][j], \" \", end='') \n",
    "    print()     "
   ]
  },
  {
   "cell_type": "code",
   "execution_count": null,
   "metadata": {},
   "outputs": [],
   "source": []
  }
 ],
 "metadata": {
  "kernelspec": {
   "display_name": "Python 3",
   "language": "python",
   "name": "python3"
  },
  "language_info": {
   "codemirror_mode": {
    "name": "ipython",
    "version": 3
   },
   "file_extension": ".py",
   "mimetype": "text/x-python",
   "name": "python",
   "nbconvert_exporter": "python",
   "pygments_lexer": "ipython3",
   "version": "3.7.6"
  }
 },
 "nbformat": 4,
 "nbformat_minor": 4
}
